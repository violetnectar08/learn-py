{
 "cells": [
  {
   "cell_type": "markdown",
   "id": "510906b3",
   "metadata": {},
   "source": [
    "## Importing Pandas\n",
    "\n",
    "When importanting pandas the conevention is the call it \"pd\". "
   ]
  },
  {
   "cell_type": "code",
   "execution_count": 1,
   "id": "548f9d51",
   "metadata": {},
   "outputs": [],
   "source": [
    "import pandas as pd"
   ]
  },
  {
   "cell_type": "markdown",
   "id": "53d38122",
   "metadata": {},
   "source": [
    "  \n",
    "## Pandas Objects  \n",
    "\n",
    "Text about objects.\n",
    "Text about objects.\n",
    "Text about objects.\n",
    "\n",
    "#### Dataframes  \n",
    "  \n",
    "> Dataframes can be thought of as tables with indvidual **entries** that have specific **values**. Each entry has a **row/record** and a **column**. \n",
    ">  \n",
    "> To create a dataframe call the `DataFrame` method from pandas. The arguments should consist of a dictionary. They keys are the column names, and the lists for each key assign values to that column. \n",
    ">\n",
    ">> `pd.DataFrame({'Column1': [value1, value2], 'Column2': [value3, value4]})`\n",
    "  "
   ]
  },
  {
   "cell_type": "markdown",
   "id": "38df6e45",
   "metadata": {},
   "source": [
    "#### Example 1\n",
    "\n",
    "Create a dataframe with the release order, title, and release year of Lana Del Rey's albums based on the below dates and order.\n",
    "\n",
    "1. From the End (2005)\n",
    "2. Sirens (2006)\n",
    "3. Lana Del Ray (2010)\n",
    "4. Born To Die (2012)\n",
    "5. Paradise (2012)\n",
    "6. Ultraviolence (2014)\n",
    "7. Honeymoon (2015)\n",
    "8. Lust for Life (2017)\n",
    "9. Norman Fucking Rockwell! (2019)\n",
    "10. Violet Bent Backwards Over the Grass (2020)\n",
    "11. Chemtrails Over the Country Club (2021)\n",
    "12. Blue Banisters (2021)"
   ]
  },
  {
   "cell_type": "code",
   "execution_count": 2,
   "id": "4ad51d2d",
   "metadata": {},
   "outputs": [],
   "source": [
    "# Create dataframe with column names 'Order', 'Album', and 'Year'\n",
    "# ldr_albums = "
   ]
  },
  {
   "cell_type": "code",
   "execution_count": 4,
   "id": "fae9defb-9839-430c-afe7-e829a9d94da2",
   "metadata": {
    "tags": []
   },
   "outputs": [
    {
     "name": "stdout",
     "output_type": "stream",
     "text": [
      "    Order                                 Album  Year\n",
      "0      12                        Blue Banisters  2021\n",
      "1       4                           Born To Die  2012\n",
      "2       9              Norman Fucking Rockwell!  2019\n",
      "3      11      Chemtrails Over the Country Club  2021\n",
      "4       2                                Sirens  2006\n",
      "5       1                          From the End  2005\n",
      "6       7                             Honeymoon  2015\n",
      "7       3                          Lana Del Ray  2010\n",
      "8       8                         Lust for Life  2017\n",
      "9       6                         Ultraviolence  2014\n",
      "10      5                              Paradise  2012\n",
      "11     10  Violet Bent Backwards Over the Grass  2020\n"
     ]
    }
   ],
   "source": [
    "# # Answer to Example 1  \n",
    "# ldr_albums = pd.DataFrame({'Order': [12,4,9,\n",
    "#                                     11,2,1,\n",
    "#                                     7,3,8,\n",
    "#                                     6,5,10],\n",
    "#                           'Album': ['Blue Banisters', 'Born To Die', 'Norman Fucking Rockwell!', \n",
    "#                                      'Chemtrails Over the Country Club', 'Sirens', 'From the End', \n",
    "#                                     'Honeymoon', 'Lana Del Ray', 'Lust for Life',\n",
    "#                                     'Ultraviolence', 'Paradise', 'Violet Bent Backwards Over the Grass'],\n",
    "#                           'Year': [2021, 2012, 2019,\n",
    "#                                    2021, 2006, 2005,\n",
    "#                                    2015, 2010, 2017,\n",
    "#                                    2014, 2012, 2020]})\n",
    "\n",
    "# # print(ldr_albums)"
   ]
  },
  {
   "cell_type": "code",
   "execution_count": null,
   "id": "2063086c-681f-4e84-86a0-77ebf5686842",
   "metadata": {},
   "outputs": [],
   "source": []
  }
 ],
 "metadata": {
  "kernelspec": {
   "display_name": "env",
   "language": "python",
   "name": "env"
  },
  "language_info": {
   "codemirror_mode": {
    "name": "ipython",
    "version": 3
   },
   "file_extension": ".py",
   "mimetype": "text/x-python",
   "name": "python",
   "nbconvert_exporter": "python",
   "pygments_lexer": "ipython3",
   "version": "3.10.2"
  }
 },
 "nbformat": 4,
 "nbformat_minor": 5
}

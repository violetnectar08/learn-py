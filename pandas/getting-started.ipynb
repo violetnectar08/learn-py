{
 "cells": [
  {
   "cell_type": "markdown",
   "id": "510906b3",
   "metadata": {},
   "source": [
    "## Importing Pandas\n",
    "\n",
    "When importanting pandas the conevention is the call it \"pd\". "
   ]
  },
  {
   "cell_type": "code",
   "execution_count": 1,
   "id": "548f9d51",
   "metadata": {},
   "outputs": [],
   "source": [
    "import pandas as pd"
   ]
  },
  {
   "cell_type": "markdown",
   "id": "53d38122",
   "metadata": {},
   "source": [
    "  \n",
    "## Pandas Objects  \n",
    "\n",
    "Text about objects.\n",
    "Text about objects.\n",
    "Text about objects.\n",
    "\n",
    "#### DataFrames  \n",
    "  \n",
    ">DataFrames can be thought of as tables with indvidual **entries** that have specific **values**. Each entry has a **row/record** and a **column**. \n",
    "> \n",
    ">To create a dataframe call the `DataFrame` method from pandas. The arguments should consist of a dictionary. They keys are the column names, and the lists for each key assign values to that column. \n",
    ">\n",
    "> `pd.DataFrame({'Column1': [value1, value2], 'Column2': [value3, value4]})`\n",
    "\n",
    "  \n",
    "#### Series  \n",
    "  \n",
    "> A series is a list of values. Each column in a DataFrame can be thought of as a series. \n",
    ">\n",
    "> To create a series call the `Series` method from pandas. The arguments should include a list of values.\n",
    ">\n",
    "> `pd.Series([value1, value2, value3, value4])`\n",
    "\n",
    "\n",
    "#### Index\n",
    "\n",
    "> Both DataFrames and Series have an **index**. Indices behave as an immutable array meaning certain operations cannot be done meaning they can be shared between DataFrames without risking changes to the index. Indices also behave as ordered sets meaning the usual set operators (&, |, ^) can be used. \n",
    ">\n",
    "> To create an index call the `Index` method from pandas. \n",
    ">\n",
    "> `ind = pd.Index([2,3,3,7,9])`\n",
    "  "
   ]
  },
  {
   "cell_type": "markdown",
   "id": "38df6e45",
   "metadata": {},
   "source": [
    "#### Example 1\n",
    "\n",
    "Create a dataframe with the release order, title, and release year of Lana Del Rey's albums based on the below dates and order.\n",
    "\n",
    "    1. From the End (2005)\n",
    "    2. Sirens (2006)\n",
    "    3. Lana Del Ray (2010)\n",
    "    4. Born to Die (2012)\n",
    "    5. Paradise (2012)\n",
    "    6. Ultraviolence (2014)\n",
    "    7. Honeymoon (2015)\n",
    "    8. Lust for Life (2017)\n",
    "    9. Norman Fucking Rockwell! (2019)\n",
    "    10. Violet Bent Backwards Over the Grass (2020)\n",
    "    11. Chemtrails Over the Country Club (2021)\n",
    "    12. Blue Banisters (2021)"
   ]
  },
  {
   "cell_type": "markdown",
   "id": "76f652de-7b83-41c3-b27b-b191effce741",
   "metadata": {},
   "source": [
    "## Reading and Writing Data Files\n",
    "\n",
    "#### Reading CSV Files\n",
    "\n",
    "> The read_csv method can be used to read a csv file and save it as a DataFrame.\n",
    ">\n",
    ">    `df = pd.read_csv('path')`\n",
    ">  \n",
    "> Below is a table of other common arguments used when reading csv files as DataFrames.\n",
    ">\n",
    ">    | Argument    | Default    | Description                       |\n",
    ">    | ----------- | ---------- | --------------------------------- |\n",
    ">    | sep         | ,          | Separator for csv                 |\n",
    ">    | header      | None       | Accepts int, list, or row numbers |\n",
    ">    | usecols     | None       | Retrieve specific columns         |\n",
    ">    | index_col   | None       | Specify columns to use as index   |\n",
    ">    | skiprows    | None       | Specify rows to skip in DataFrame |\n",
    ">\n",
    ">\n",
    "#### Writing CSV Files\n",
    ">  \n",
    "> The to_csv method can be used to write a dataframe to a csv file.\n",
    ">  \n",
    ">    `df.to_csv('path')`\n",
    ">  \n",
    "> Below is a table of other common arguments used when writing DataFrames to csv files.\n",
    ">\n",
    ">    | Argument     | Default    | Description                       |\n",
    ">    | ------------ | ---------- | --------------------------------- |\n",
    ">    | sep          | ,          | Separator for csv                 |\n",
    ">    | float_format | None       | Format string for float dtype     |\n",
    ">    | Columns      | None       | Columsn to write to csv           |\n",
    ">    | date_format  | None       | Format string for date columns    |\n",
    ">\n",
    ">"
   ]
  },
  {
   "cell_type": "code",
   "execution_count": 2,
   "id": "4ad51d2d",
   "metadata": {},
   "outputs": [],
   "source": [
    "# Create dataframe with column names 'Order', 'Album', and 'Year'\n",
    "# ldr_albums = "
   ]
  },
  {
   "cell_type": "markdown",
   "id": "e1d8b658-172d-4ecc-9205-4babc87c887a",
   "metadata": {},
   "source": [
    "#### Example 2\n",
    "\n",
    "Read Lana Del Rey's album track lists in from a csv file and save as a DataFrame."
   ]
  },
  {
   "cell_type": "code",
   "execution_count": 3,
   "id": "a9f47bee-2cfd-469b-8946-c78da9a3b181",
   "metadata": {},
   "outputs": [],
   "source": [
    "# Path to csv file\n",
    "track_csv_path = 'C:/Users/viole/OneDrive/Documents/Music-Info/LDR/ldr_tracks.csv'\n",
    "\n",
    "# Create DataFrame from csv file"
   ]
  },
  {
   "cell_type": "markdown",
   "id": "99330110-e6f5-4511-ba98-a6b3ef9f167a",
   "metadata": {},
   "source": [
    "## Exploring DataFrames\n",
    "\n",
    "The **head** function allows you to see the first few rows.\n",
    "\n",
    "`df.head()`\n",
    "\n",
    "The **describe** function gives the following information for each column in the DataFrame.\n",
    "\n",
    "`df.describe()`\n",
    "\n",
    "| Row     | Description                             |\n",
    "| ------- | --------------------------------------- |\n",
    "| Count   | Number of non-empty values              |\n",
    "| Mean    | The average value                       |\n",
    "| Std     | The standard deviation                  |\n",
    "| Min     | The minimum value                       |\n",
    "| 25%     | Number of values below 25% percentile   |\n",
    "| 50%     | Number of values below 50% percentile   |\n",
    "| 75%     | Number of values below 75% percentile   |\n",
    "| Max     | The maximum value                       |\n",
    "\n",
    "The **columns** function gives a list of columns in the DataFrame.\n",
    "\n",
    "`df.columns`\n",
    "\n"
   ]
  },
  {
   "cell_type": "markdown",
   "id": "914c0e88-4ed4-44c8-a54e-e77589b81af6",
   "metadata": {},
   "source": [
    "#### Example 3\n",
    "\n",
    "Explore the DataFrames created (ldr_albums_df and ldr_tracks_df). \n",
    "\n",
    "    - View the first few rows\n",
    "    - Get a list of columns\n",
    "    - How many rows have missing data in each df?"
   ]
  },
  {
   "cell_type": "code",
   "execution_count": 12,
   "id": "e96a161e-bc85-4b6e-a6a7-76091559696b",
   "metadata": {},
   "outputs": [
    {
     "name": "stdout",
     "output_type": "stream",
     "text": [
      "           Order         Year\n",
      "count  12.000000    12.000000\n",
      "mean    6.500000  2014.333333\n",
      "std     3.605551     5.532274\n",
      "min     1.000000  2005.000000\n",
      "25%     3.750000  2011.500000\n",
      "50%     6.500000  2014.500000\n",
      "75%     9.250000  2019.250000\n",
      "max    12.000000  2021.000000\n"
     ]
    }
   ],
   "source": [
    "# First few rows of ldr_albums_df\n",
    "# print(ldr_albums_df.head())\n",
    "\n",
    "# List of columsn in ldr_albums_df\n",
    "# print(ldr_albums_df.columns)\n",
    "\n",
    "# Describe ldr_albums_df\n",
    "print(ldr_albums_df.describe())"
   ]
  },
  {
   "cell_type": "code",
   "execution_count": 4,
   "id": "fae9defb-9839-430c-afe7-e829a9d94da2",
   "metadata": {
    "tags": []
   },
   "outputs": [
    {
     "name": "stdout",
     "output_type": "stream",
     "text": [
      "    Order                                 Album  Year\n",
      "0      12                        Blue Banisters  2021\n",
      "1       4                           Born to Die  2012\n",
      "2       9              Norman Fucking Rockwell!  2019\n",
      "3      11      Chemtrails Over the Country Club  2021\n",
      "4       2                                Sirens  2006\n",
      "5       1                          From the End  2005\n",
      "6       7                             Honeymoon  2015\n",
      "7       3                          Lana Del Ray  2010\n",
      "8       8                         Lust for Life  2017\n",
      "9       6                         Ultraviolence  2014\n",
      "10      5                              Paradise  2012\n",
      "11     10  Violet Bent Backwards Over the Grass  2020\n"
     ]
    }
   ],
   "source": [
    "# # Answer to Example 1  \n",
    "ldr_albums = {\n",
    "                'Order': [12,4,9,11,2,1,7,3,8,6,5,10],\n",
    "                'Album': ['Blue Banisters', 'Born to Die', 'Norman Fucking Rockwell!', \n",
    "                          'Chemtrails Over the Country Club', 'Sirens', 'From the End', \n",
    "                          'Honeymoon', 'Lana Del Ray', 'Lust for Life',\n",
    "                          'Ultraviolence', 'Paradise', 'Violet Bent Backwards Over the Grass'],\n",
    "                'Year': [2021,2012,2019,2021,2006,2005,2015, 2010, 2017,2014, 2012, 2020]\n",
    "}\n",
    "\n",
    "ldr_albums_df = pd.DataFrame(ldr_albums)\n",
    "\n",
    "print(ldr_albums_df)"
   ]
  },
  {
   "cell_type": "code",
   "execution_count": 6,
   "id": "0c2fb099-da9c-4825-a170-68c748f7706a",
   "metadata": {},
   "outputs": [
    {
     "name": "stdout",
     "output_type": "stream",
     "text": [
      "        Album  Track_Nbr                          Title Length  \\\n",
      "0      Sirens        NaN                       Drive By   2:51   \n",
      "1      Sirens        NaN                     Next to Me   2:41   \n",
      "2      Sirens        NaN                A Star for Nick   2:43   \n",
      "3      Sirens        NaN                       My Momma   3:25   \n",
      "4      Sirens        NaN                    Bad Disease   3:42   \n",
      "..        ...        ...                            ...    ...   \n",
      "87  Honeymoon        NaN                      Salvatore   4:41   \n",
      "88  Honeymoon        NaN               The Blackest Day   6:05   \n",
      "89  Honeymoon        NaN                             24   4:55   \n",
      "90  Honeymoon        NaN                      Swan Song   5:23   \n",
      "91  Honeymoon        NaN  Don't Let Me Be Misunderstood   3:01   \n",
      "\n",
      "                                     Producer  \n",
      "0                                         NaN  \n",
      "1                                         NaN  \n",
      "2                                         NaN  \n",
      "3                                         NaN  \n",
      "4                                         NaN  \n",
      "..                                        ...  \n",
      "87  Lana Del Rey, Rick Nowels, Kieron Menzies  \n",
      "88  Lana Del Rey, Rick Nowels, Kieron Menzies  \n",
      "89  Lana Del Rey, Rick Nowels, Kieron Menzies  \n",
      "90  Lana Del Rey, Rick Nowels, Kieron Menzies  \n",
      "91  Lana Del Rey, Rick Nowels, Kieron Menzies  \n",
      "\n",
      "[92 rows x 5 columns]\n"
     ]
    }
   ],
   "source": [
    "# Answer to Example 2\n",
    "\n",
    "# Path to csv file\n",
    "track_csv_path = 'C:/Users/viole/OneDrive/Documents/Music-Info/LDR/ldr_tracks.csv'\n",
    "\n",
    "# Create DataFrame from csv file\n",
    "ldr_tracks_df = pd.read_csv(track_csv_path)\n",
    "\n",
    "print(ldr_tracks_df)"
   ]
  },
  {
   "cell_type": "code",
   "execution_count": null,
   "id": "2063086c-681f-4e84-86a0-77ebf5686842",
   "metadata": {},
   "outputs": [],
   "source": []
  }
 ],
 "metadata": {
  "kernelspec": {
   "display_name": "pdvenv",
   "language": "python",
   "name": "pdvenv"
  },
  "language_info": {
   "codemirror_mode": {
    "name": "ipython",
    "version": 3
   },
   "file_extension": ".py",
   "mimetype": "text/x-python",
   "name": "python",
   "nbconvert_exporter": "python",
   "pygments_lexer": "ipython3",
   "version": "3.10.2"
  }
 },
 "nbformat": 4,
 "nbformat_minor": 5
}

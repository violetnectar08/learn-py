{
 "cells": [
  {
   "cell_type": "markdown",
   "id": "510906b3",
   "metadata": {},
   "source": [
    "## Importing Pandas\n",
    "\n",
    "When importanting pandas the conevention is to call it \"pd\". "
   ]
  },
  {
   "cell_type": "code",
   "execution_count": 1,
   "id": "548f9d51",
   "metadata": {},
   "outputs": [],
   "source": [
    "import pandas as pd"
   ]
  },
  {
   "cell_type": "markdown",
   "id": "53d38122",
   "metadata": {},
   "source": [
    "  \n",
    "## Pandas Objects  \n",
    "\n",
    "Text about objects.  \n",
    "Text about objects.  \n",
    "Text about objects.\n",
    "\n",
    "#### DataFrames  \n",
    "  \n",
    ">DataFrames can be thought of as tables with indvidual **entries** that have specific **values**. Each entry has a **row/record** and a **column**. \n",
    "> \n",
    ">To create a dataframe call the `DataFrame` method from pandas. The arguments should consist of a dictionary. They keys are the column names, and the lists for each key assign values to that column. \n",
    ">\n",
    "> `pd.DataFrame({'Column1': [value1, value2], 'Column2': [value3, value4]})`\n",
    "\n",
    "  \n",
    "#### Series  \n",
    "  \n",
    "> A series is a list of values. Each column in a DataFrame can be thought of as a series. \n",
    ">\n",
    "> To create a series call the `Series` method from pandas. The arguments should include a list of values.\n",
    ">\n",
    "> `pd.Series([value1, value2, value3, value4])`\n",
    "\n",
    "\n",
    "#### Index\n",
    "\n",
    "> Both DataFrames and Series have an **index**. DataFrames have indices for rows and columns. Indices behave as an immutable array meaning certain operations cannot be done meaning they can be shared between DataFrames without risking changes to the index. Indices also behave as ordered sets meaning the usual set operators (&, |, ^) can be used. \n",
    ">\n",
    "> To create an index call the `Index` method from pandas. \n",
    ">\n",
    "> `ind = pd.Index([2,3,3,7,9])`\n",
    "  "
   ]
  },
  {
   "cell_type": "markdown",
   "id": "38df6e45",
   "metadata": {},
   "source": [
    "#### Example 1\n",
    "\n",
    "Create a dataframe with the release order, title, and release year of Lana Del Rey's albums based on the below dates and order.\n",
    "\n",
    "    1. From the End (2005)\n",
    "    2. Sirens (2006)\n",
    "    3. Lana Del Ray (2010)\n",
    "    4. Born to Die (2012)\n",
    "    5. Paradise (2012)\n",
    "    6. Ultraviolence (2014)\n",
    "    7. Honeymoon (2015)\n",
    "    8. Lust for Life (2017)\n",
    "    9. Norman Fucking Rockwell! (2019)\n",
    "    10. Violet Bent Backwards Over the Grass (2020)\n",
    "    11. Chemtrails Over the Country Club (2021)\n",
    "    12. Blue Banisters (2021)"
   ]
  },
  {
   "cell_type": "markdown",
   "id": "76f652de-7b83-41c3-b27b-b191effce741",
   "metadata": {},
   "source": [
    "## Reading and Writing Data Files\n",
    "\n",
    "#### Reading CSV Files\n",
    "\n",
    "> The read_csv method can be used to read a csv file and save it as a DataFrame.\n",
    ">\n",
    ">    `df = pd.read_csv('path')`\n",
    ">  \n",
    "> Below is a table of other common arguments used when reading csv files as DataFrames.\n",
    ">\n",
    ">    | Argument    | Default    | Description                       |\n",
    ">    | ----------- | ---------- | --------------------------------- |\n",
    ">    | sep         | ,          | Separator for csv                 |\n",
    ">    | header      | None       | Accepts int, list, or row numbers |\n",
    ">    | usecols     | None       | Retrieve specific columns         |\n",
    ">    | index_col   | None       | Specify columns to use as index   |\n",
    ">    | skiprows    | None       | Specify rows to skip in DataFrame |\n",
    ">\n",
    ">\n",
    "#### Writing CSV Files\n",
    ">  \n",
    "> The to_csv method can be used to write a dataframe to a csv file.\n",
    ">  \n",
    ">    `df.to_csv('path')`\n",
    ">  \n",
    "> Below is a table of other common arguments used when writing DataFrames to csv files.\n",
    ">\n",
    ">    | Argument     | Default    | Description                       |\n",
    ">    | ------------ | ---------- | --------------------------------- |\n",
    ">    | sep          | ,          | Separator for csv                 |\n",
    ">    | float_format | None       | Format string for float dtype     |\n",
    ">    | Columns      | None       | Columsn to write to csv           |\n",
    ">    | date_format  | None       | Format string for date columns    |\n",
    ">\n",
    ">"
   ]
  },
  {
   "cell_type": "code",
   "execution_count": 2,
   "id": "4ad51d2d",
   "metadata": {},
   "outputs": [],
   "source": [
    "# Create dataframe with column names 'Order', 'Album', and 'Year'\n",
    "# ldr_albums = "
   ]
  },
  {
   "cell_type": "markdown",
   "id": "e1d8b658-172d-4ecc-9205-4babc87c887a",
   "metadata": {},
   "source": [
    "#### Example 2\n",
    "\n",
    "Read Lana Del Rey's album track lists in from a csv file and save as a DataFrame."
   ]
  },
  {
   "cell_type": "code",
   "execution_count": 3,
   "id": "a9f47bee-2cfd-469b-8946-c78da9a3b181",
   "metadata": {},
   "outputs": [],
   "source": [
    "# Path to csv file\n",
    "track_csv_path = 'C:/Users/viole/OneDrive/Documents/Music-Info/LDR/ldr_tracks.csv'\n",
    "\n",
    "# Create DataFrame from csv file"
   ]
  },
  {
   "cell_type": "markdown",
   "id": "99330110-e6f5-4511-ba98-a6b3ef9f167a",
   "metadata": {},
   "source": [
    "## Exploring DataFrames\n",
    "\n",
    "The **head** function allows you to see the first few rows.\n",
    "\n",
    "`df.head()`\n",
    "\n",
    "The **describe** function gives the following information for each column in the DataFrame.\n",
    "\n",
    "`df.describe()`\n",
    "\n",
    "| Row     | Description                             |\n",
    "| ------- | --------------------------------------- |\n",
    "| Count   | Number of non-empty values              |\n",
    "| Mean    | The average value                       |\n",
    "| Std     | The standard deviation                  |\n",
    "| Min     | The minimum value                       |\n",
    "| 25%     | Number of values below 25% percentile   |\n",
    "| 50%     | Number of values below 50% percentile   |\n",
    "| 75%     | Number of values below 75% percentile   |\n",
    "| Max     | The maximum value                       |\n",
    "\n",
    "The **columns** function gives a list of columns in the DataFrame.\n",
    "\n",
    "`df.columns`\n",
    "\n"
   ]
  },
  {
   "cell_type": "markdown",
   "id": "914c0e88-4ed4-44c8-a54e-e77589b81af6",
   "metadata": {},
   "source": [
    "#### Example 3\n",
    "\n",
    "Explore the DataFrames created (ldr_albums_df and ldr_tracks_df). \n",
    "\n",
    "    - View the first few rows\n",
    "    - Get a list of columns\n",
    "    - How many rows have missing data in each df?"
   ]
  },
  {
   "cell_type": "code",
   "execution_count": 10,
   "id": "998f6815-7567-4274-80ed-73e5ee243065",
   "metadata": {},
   "outputs": [],
   "source": [
    "# View the first few rows of ldr_albums_df\n",
    "\n",
    "\n",
    "# Get a list of columns from ldr_albums_df\n",
    "\n",
    "\n",
    "# How many rows in ldr_albums_df have missing values?\n",
    "\n",
    "\n",
    "# View the first few rows of ldr_tracks_df\n",
    "\n",
    "\n",
    "# Get a list of columsn from ldr_tracks_df\n",
    "\n",
    "\n",
    "# How many rows in ldr_tracks_df have missing data?\n"
   ]
  },
  {
   "cell_type": "markdown",
   "id": "b516e243-115a-464a-97ce-e96a26cb2911",
   "metadata": {},
   "source": [
    "## Accessing, Selecting, and Assigning\n",
    "  \n",
    "Specific data points can be implicitly selected and used with native Python operations. \n",
    "  \n",
    "#### Accessing\n",
    "  \n",
    "Properties of DataFrame objects can be accessed as as attribute. An example of this would be the columns attribute discussed previously. The table belows summarizes some common DataFrame attributes.\n",
    "\n",
    "| Attribute    | Syntax           | Description                                                         |\n",
    "| ------------ | ---------------- | ------------------------------------------------------------------- |\n",
    "| index        | df.index         | returns row labels of a DataFrame object                            |\n",
    "| columns      | df.columns       | returns a list of column names                                      |\n",
    "| axes         | df.axes          | returns a list of column names and a list of row labels             |\n",
    "| dtypes       | df.dtypes        | returns the data types of each column                               |\n",
    "| size         | df.size          | returns the number of elements in a DataFrame object                |\n",
    "| shape        | df.shape         | returns the number of rows and columns                              |\n",
    "| empty        | df.empty         | returns True if the DataFrame is empty and False if it is not empty |\n",
    "| transpose    | df.T             | swaps the rows and columns                                          |\n",
    "| values       | df.values        | returns values of all data points                                   |"
   ]
  },
  {
   "cell_type": "code",
   "execution_count": 19,
   "id": "6ae210e1-1435-434c-898a-b1b6f6eec385",
   "metadata": {},
   "outputs": [
    {
     "data": {
      "text/plain": [
       "array([[12, 'Blue Banisters', 2021],\n",
       "       [4, 'Born to Die', 2012],\n",
       "       [9, 'Norman Fucking Rockwell!', 2019],\n",
       "       [11, 'Chemtrails Over the Country Club', 2021],\n",
       "       [2, 'Sirens', 2006],\n",
       "       [1, 'From the End', 2005],\n",
       "       [7, 'Honeymoon', 2015],\n",
       "       [3, 'Lana Del Ray', 2010],\n",
       "       [8, 'Lust for Life', 2017],\n",
       "       [6, 'Ultraviolence', 2014],\n",
       "       [5, 'Paradise', 2012],\n",
       "       [10, 'Violet Bent Backwards Over the Grass', 2020]], dtype=object)"
      ]
     },
     "execution_count": 19,
     "metadata": {},
     "output_type": "execute_result"
    }
   ],
   "source": [
    "ldr_albums_df.values"
   ]
  },
  {
   "cell_type": "markdown",
   "id": "9ab80299-a706-4aa1-8792-38a238535c12",
   "metadata": {},
   "source": [
    "  \n",
    "    \n",
    "# Answers to Examples\n",
    "  \n",
    "    \n",
    "    "
   ]
  },
  {
   "cell_type": "code",
   "execution_count": 3,
   "id": "fae9defb-9839-430c-afe7-e829a9d94da2",
   "metadata": {
    "tags": []
   },
   "outputs": [],
   "source": [
    "# # Answer to Example 1  \n",
    "# ldr_albums = {\n",
    "#                 'Order': [12,4,9,11,2,1,7,3,8,6,5,10],\n",
    "#                 'Album': ['Blue Banisters', 'Born to Die', 'Norman Fucking Rockwell!', \n",
    "#                           'Chemtrails Over the Country Club', 'Sirens', 'From the End', \n",
    "#                           'Honeymoon', 'Lana Del Ray', 'Lust for Life',\n",
    "#                           'Ultraviolence', 'Paradise', 'Violet Bent Backwards Over the Grass'],\n",
    "#                 'Year': [2021,2012,2019,2021,2006,2005,2015, 2010, 2017,2014, 2012, 2020]\n",
    "# }\n",
    "\n",
    "# ldr_albums_df = pd.DataFrame(ldr_albums)\n",
    "\n",
    "# print(ldr_albums_df)"
   ]
  },
  {
   "cell_type": "code",
   "execution_count": 5,
   "id": "0c2fb099-da9c-4825-a170-68c748f7706a",
   "metadata": {},
   "outputs": [],
   "source": [
    "# # Answer to Example 2\n",
    "\n",
    "# # Path to csv file\n",
    "# track_csv_path = 'C:/Users/viole/OneDrive/Documents/Music-Info/LDR/ldr_tracks.csv'\n",
    "\n",
    "# # Create DataFrame from csv file\n",
    "# ldr_tracks_df = pd.read_csv(track_csv_path)\n",
    "\n",
    "# print(ldr_tracks_df)"
   ]
  },
  {
   "cell_type": "code",
   "execution_count": 7,
   "id": "2063086c-681f-4e84-86a0-77ebf5686842",
   "metadata": {},
   "outputs": [],
   "source": [
    "# # Answer to Example 3\n",
    "\n",
    "# # First few rows of ldr_albums_df\n",
    "# print(ldr_albums_df.head())\n",
    "\n",
    "# # List of columsn in ldr_albums_df\n",
    "# print(ldr_albums_df.columns)\n",
    "\n",
    "# # Describe ldr_albums_df\n",
    "# print(ldr_albums_df.describe())"
   ]
  },
  {
   "cell_type": "code",
   "execution_count": 9,
   "id": "3383b1fc-5d71-41cb-9c97-8516f125e4f8",
   "metadata": {},
   "outputs": [
    {
     "ename": "AttributeError",
     "evalue": "'DataFrame' object has no attribute 'order'",
     "output_type": "error",
     "traceback": [
      "\u001b[1;31m---------------------------------------------------------------------------\u001b[0m",
      "\u001b[1;31mAttributeError\u001b[0m                            Traceback (most recent call last)",
      "Cell \u001b[1;32mIn [9], line 1\u001b[0m\n\u001b[1;32m----> 1\u001b[0m \u001b[38;5;28mprint\u001b[39m(\u001b[43mldr_albums_df\u001b[49m\u001b[38;5;241;43m.\u001b[39;49m\u001b[43morder\u001b[49m)\n",
      "File \u001b[1;32mC:\\dev\\repos\\learning\\learn-py\\pandas\\pdvenv\\lib\\site-packages\\pandas\\core\\generic.py:5902\u001b[0m, in \u001b[0;36mNDFrame.__getattr__\u001b[1;34m(self, name)\u001b[0m\n\u001b[0;32m   5895\u001b[0m \u001b[38;5;28;01mif\u001b[39;00m (\n\u001b[0;32m   5896\u001b[0m     name \u001b[38;5;129;01mnot\u001b[39;00m \u001b[38;5;129;01min\u001b[39;00m \u001b[38;5;28mself\u001b[39m\u001b[38;5;241m.\u001b[39m_internal_names_set\n\u001b[0;32m   5897\u001b[0m     \u001b[38;5;129;01mand\u001b[39;00m name \u001b[38;5;129;01mnot\u001b[39;00m \u001b[38;5;129;01min\u001b[39;00m \u001b[38;5;28mself\u001b[39m\u001b[38;5;241m.\u001b[39m_metadata\n\u001b[0;32m   5898\u001b[0m     \u001b[38;5;129;01mand\u001b[39;00m name \u001b[38;5;129;01mnot\u001b[39;00m \u001b[38;5;129;01min\u001b[39;00m \u001b[38;5;28mself\u001b[39m\u001b[38;5;241m.\u001b[39m_accessors\n\u001b[0;32m   5899\u001b[0m     \u001b[38;5;129;01mand\u001b[39;00m \u001b[38;5;28mself\u001b[39m\u001b[38;5;241m.\u001b[39m_info_axis\u001b[38;5;241m.\u001b[39m_can_hold_identifiers_and_holds_name(name)\n\u001b[0;32m   5900\u001b[0m ):\n\u001b[0;32m   5901\u001b[0m     \u001b[38;5;28;01mreturn\u001b[39;00m \u001b[38;5;28mself\u001b[39m[name]\n\u001b[1;32m-> 5902\u001b[0m \u001b[38;5;28;01mreturn\u001b[39;00m \u001b[38;5;28;43mobject\u001b[39;49m\u001b[38;5;241;43m.\u001b[39;49m\u001b[38;5;21;43m__getattribute__\u001b[39;49m\u001b[43m(\u001b[49m\u001b[38;5;28;43mself\u001b[39;49m\u001b[43m,\u001b[49m\u001b[43m \u001b[49m\u001b[43mname\u001b[49m\u001b[43m)\u001b[49m\n",
      "\u001b[1;31mAttributeError\u001b[0m: 'DataFrame' object has no attribute 'order'"
     ]
    }
   ],
   "source": []
  },
  {
   "cell_type": "code",
   "execution_count": null,
   "id": "638298ca-7381-407c-8a4f-4012d4de7c9b",
   "metadata": {},
   "outputs": [],
   "source": []
  }
 ],
 "metadata": {
  "kernelspec": {
   "display_name": "pdvenv",
   "language": "python",
   "name": "pdvenv"
  },
  "language_info": {
   "codemirror_mode": {
    "name": "ipython",
    "version": 3
   },
   "file_extension": ".py",
   "mimetype": "text/x-python",
   "name": "python",
   "nbconvert_exporter": "python",
   "pygments_lexer": "ipython3",
   "version": "3.10.2"
  }
 },
 "nbformat": 4,
 "nbformat_minor": 5
}
